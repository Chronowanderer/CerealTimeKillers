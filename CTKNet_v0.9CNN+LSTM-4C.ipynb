{
 "cells": [
  {
   "cell_type": "markdown",
   "metadata": {},
   "source": [
    "# CerealTimeKillersNet: Deep neural network for emotional states predictions from EEG data."
   ]
  },
  {
   "cell_type": "markdown",
   "metadata": {},
   "source": [
    "## Setup"
   ]
  },
  {
   "cell_type": "code",
   "execution_count": 1,
   "metadata": {},
   "outputs": [],
   "source": [
    "# Packages & self-implemented functions\n",
    "from CTKNetFunctions import *\n"
   ]
  },
  {
   "cell_type": "markdown",
   "metadata": {},
   "source": [
    "## Model settings - Change models here!"
   ]
  },
  {
   "cell_type": "code",
   "execution_count": 2,
   "metadata": {},
   "outputs": [],
   "source": [
    "class CTKNet_CRNN(nn.Module):\n",
    "    def __init__(self, input_shape, out_size):\n",
    "\n",
    "        super(CTKNet_CRNN, self).__init__()\n",
    "        \n",
    "        # Model hyperparametres (layer by layer)\n",
    "        conv_channel = [20, 10, 5]\n",
    "        conv_kernel = [3, 5, 10]\n",
    "        pool_kernel = [1, 2, 2]\n",
    "        rnn_layer = [1]\n",
    "        rnn_unit = [128]\n",
    "        rnn_drop = [0]\n",
    "        fc_unit = [64]\n",
    "        drop_out = [0.5]\n",
    "        \n",
    "        self.rnn_layer = rnn_layer\n",
    "        self.rnn_unit = rnn_unit\n",
    "        \n",
    "        # Hidden layers\n",
    "        img_size = np.array(input_shape[2:])\n",
    "        \n",
    "        self.conv1 = nn.Conv2d(in_channels = input_shape[1], out_channels = conv_channel[0], kernel_size = conv_kernel[0])\n",
    "        # self.bn1 = nn.BatchNorm2d(conv_channel[0])\n",
    "        self.pool1 = nn.MaxPool2d(kernel_size = pool_kernel[0])\n",
    "        img_size = np.floor((img_size - conv_kernel[0] + 1.0) / pool_kernel[0])\n",
    "        \n",
    "        self.conv2 = nn.Conv2d(in_channels = conv_channel[0], out_channels = conv_channel[1], kernel_size = conv_kernel[1])\n",
    "        # self.bn2 = nn.BatchNorm2d(conv_channel[1])\n",
    "        self.pool2 = nn.MaxPool2d(kernel_size = pool_kernel[1])\n",
    "        img_size = np.floor((img_size - conv_kernel[1] + 1.0) / pool_kernel[1])\n",
    "        \n",
    "        self.conv3 = nn.Conv2d(in_channels = conv_channel[1], out_channels = conv_channel[2], kernel_size = conv_kernel[2])\n",
    "        # self.bn3 = nn.BatchNorm2d(conv_channel[2])\n",
    "        self.pool3 = nn.MaxPool2d(kernel_size = pool_kernel[2])\n",
    "        img_size = np.floor((img_size - conv_kernel[2] + 1.0) / pool_kernel[2])\n",
    "        \n",
    "        fc_input_size = np.int(np.prod(img_size) * conv_channel[2])\n",
    "        \n",
    "        self.rnn1 = nn.LSTM(input_size = fc_input_size, hidden_size = rnn_unit[0], num_layers = rnn_layer[0], dropout = rnn_drop[0], batch_first = True)\n",
    "        \n",
    "        self.fc1 = nn.Linear(in_features = rnn_unit[0] * rnn_layer[0], out_features = fc_unit[0])\n",
    "        self.drop1 = nn.Dropout(drop_out[0])\n",
    "        \n",
    "        self.fc2 = nn.Linear(in_features = fc_unit[0], out_features = out_size[0])\n",
    "        \n",
    "\n",
    "    def forward(self, x):\n",
    "        \n",
    "        shape = x.shape\n",
    "        x = x.view(shape[0] * shape[1], shape[2], shape[3], shape[4])\n",
    "        \n",
    "        hidden = (torch.randn(self.rnn_layer[0], shape[0], self.rnn_unit[0]), \n",
    "                  torch.randn(self.rnn_layer[0], shape[0], self.rnn_unit[0]))   # for LSTM\n",
    "        # hidden = torch.randn(self.rnn_layer[0], shape[0], self.rnn_unit[0])   # for simple RNN and GRU\n",
    "        \n",
    "        x = self.conv1(x)\n",
    "        x = F.relu(x)\n",
    "        x = self.pool1(x)\n",
    "        \n",
    "        x = self.conv2(x)\n",
    "        x = F.relu(x)\n",
    "        x = self.pool2(x)\n",
    "        \n",
    "        x = self.conv3(x)\n",
    "        x = F.relu(x)\n",
    "        x = self.pool3(x)\n",
    "\n",
    "        x = torch.flatten(x, 1)        \n",
    "        x = x.view(shape[0], shape[1], -1)\n",
    "        _, x = self.rnn1(x, hidden) # use final hidden state for non-series label prediction!\n",
    "        x = x[0].permute(1, 0, 2) # for LSTM\n",
    "        # x = x.permute(1, 0, 2) # for simple RNN and GRU\n",
    "        x = F.relu(x)\n",
    "        x = x.contiguous().view(x.shape[0], -1)\n",
    "        \n",
    "        x = self.fc1(x)\n",
    "        x = self.drop1(x)\n",
    "        x = F.relu(x)\n",
    "        \n",
    "        x = self.fc2(x)\n",
    "        x = F.sigmoid(x)\n",
    "        \n",
    "        return x\n",
    "    "
   ]
  },
  {
   "cell_type": "code",
   "execution_count": 3,
   "metadata": {},
   "outputs": [],
   "source": [
    "# Model selection function\n",
    "def CerealTimeKillersModelGenerator(args, size):\n",
    "    \n",
    "    model = CTKNet_CRNN(input_shape = size[0], out_size = size[1])\n",
    "    optimizer = optim.SGD(model.parameters(), lr = args['lr'], momentum = args['momentum'])\n",
    "    criterion = nn.MSELoss()\n",
    "    \n",
    "    return model, optimizer, criterion\n"
   ]
  },
  {
   "cell_type": "code",
   "execution_count": 4,
   "metadata": {
    "scrolled": true
   },
   "outputs": [],
   "source": [
    "# Main function of model simulation\n",
    "def CerealTimeKillersModelSimulator(args, label,\n",
    "                                    TrainDataLoader, ValDataLoader, TestDataLoader, DataSize,\n",
    "                                    is_2D = False,\n",
    "                                    K_fold_train = False, k_folds = 1):\n",
    "    \n",
    "    N_FOLD = k_folds if K_fold_train else 1\n",
    "    loss, acc, param, models = [], [], [], []\n",
    "    \n",
    "    for fold in range(N_FOLD):\n",
    "        print('\\n%d/%d Fold' % (fold + 1, N_FOLD))\n",
    "        print('----------------------------')\n",
    "    \n",
    "        model, optimizer, criterion = CerealTimeKillersModelGenerator(args, size = DataSize)\n",
    "        loss_list, acc_list, param_norm_list, trained_model, epoch = simulation(args, label, model,\n",
    "                                                                                TrainDataLoader[fold],\n",
    "                                                                                ValDataLoader[fold],\n",
    "                                                                                TestDataLoader,\n",
    "                                                                                is_2D = is_2D,\n",
    "                                                                                optimizer = optimizer,\n",
    "                                                                                criterion = criterion)\n",
    "    \n",
    "        loss_list, acc_list = np.array(loss_list), np.array(acc_list)\n",
    "        loss.append([loss_list[0, epoch], loss_list[1, epoch], loss_list[2, epoch]])\n",
    "        acc.append([acc_list[0, epoch], acc_list[1, epoch], acc_list[2, epoch]])\n",
    "        param.append(param_norm_list[epoch])\n",
    "        models.append(trained_model)\n",
    "        \n",
    "        print('Train/Val/Test Final MSE:', list(loss[-1]))\n",
    "        print('Train/Val/Test Maximum Accuracy:', list(acc[-1]))\n",
    "    \n",
    "    return loss, acc, param, models\n",
    "\n"
   ]
  },
  {
   "cell_type": "markdown",
   "metadata": {},
   "source": [
    "## Input settings - Change hypermatres here!"
   ]
  },
  {
   "cell_type": "code",
   "execution_count": 5,
   "metadata": {},
   "outputs": [],
   "source": [
    "class CerealTimeKillersLabels:\n",
    "    \"\"\"\n",
    "    Select labels for model prediction\n",
    "    Labels used for prediction: info + electrode --> prediction\n",
    "    CHANGE these with necessity before loading data\n",
    "    \"\"\"\n",
    "    \n",
    "    # ['subject', 'game', 'gender', 'age', 'disturbance', 'experience', 'memory']\n",
    "    info = []\n",
    "        \n",
    "    # ['AF3', 'AF4', 'F3', 'F4', 'F7', 'F8', 'FC5', 'FC6', 'O1', 'O2', 'P7', 'P8', 'T7', 'T8']\n",
    "    electrode = ['AF3', 'AF4', 'F3', 'F4', 'F7', 'F8', 'FC5', 'FC6', 'O1', 'O2', 'P7', 'P8', 'T7', 'T8']\n",
    "        \n",
    "    # ['satisfied', 'boring', 'horrible', 'calm', 'funny', 'valence', 'arousal']\n",
    "    prediction = ['boring', 'horrible', 'calm', 'funny']\n",
    "    # prediction = ['valence', 'arousal']\n",
    "    \n",
    "    # Quadrant emotions (applied after predicting valence/arousal)\n",
    "    quadrant = ['boring', 'horrible', 'calm', 'funny']\n",
    "    \n",
    "    # Fixed variables\n",
    "    fixed = info + prediction\n",
    "    \n",
    "    # Summarise labels for model\n",
    "    label = info + electrode + prediction\n"
   ]
  },
  {
   "cell_type": "code",
   "execution_count": 6,
   "metadata": {},
   "outputs": [
    {
     "name": "stdout",
     "output_type": "stream",
     "text": [
      "WARNING: For this notebook to perform best, if possible, in the menu under `Runtime` -> `Change runtime type.`  select `GPU` \n",
      "Current device: cpu\n",
      "Random seed 2021 has been set.\n"
     ]
    }
   ],
   "source": [
    "# General settings\n",
    "workspace_dir = '' # Workspace directionary\n",
    "LabelRange = [1, 10] # The [min, max] of emotional states for transformation\n",
    "\n",
    "# Whether to allow between-window dataset mixture\n",
    "# SET TO FALSE FOR 4-DIMENSIONAL INPUT WHEN USING RNN\n",
    "Is_between_subject = False # Default is True for 3-dimensional input\n",
    "\n",
    "# Whether to transform 2D emotion  (valence/arousal) to 4 quardrant emotions ()\n",
    "Is_2D_to_quardrant_emotion = False # Default is False\n",
    "\n",
    "# Which to be based for allocating testing dataset (only when Is_between_subject = True)\n",
    "Allocation_test = None # [None, 'subject', 'game'] # Default is None\n",
    "test_ratio = 0.2 # Proportion of data used for testing when Allocation_test == None\n",
    "Target_test = [25, 26, 27] # Int list for allocating corresponding game/subject as testing dataset when Allocation_test != None\n",
    "\n",
    "# Model structural settings\n",
    "N_inputtime = 50 # Time window for input sampling (Default is None for the whole timepoints)\n",
    "N_stridetime = 10 # Temporal leap for input sampling when N_inputtime != None\n",
    "N_perseg = 256 # N per seg of spectrogram\n",
    "N_framerate = 128 # Framerate of spectrogram\n",
    "\n",
    "# Model training settings\n",
    "batch_size_train = 16 # Number of examples per minibatch during training\n",
    "batch_size_test = 1 # Number of examples per minibatch during validation/testing\n",
    "k_folds = 5 # Number for K-folds for training vs validation (validation is 1/k_folds of the train/val set)\n",
    "K_fold_train = True # Whether enable the full K-fold cross-validation for training (if False, validate only once)\n",
    "\n",
    "# Model hypermparametres\n",
    "args = {\n",
    "    'epochs': 300,\n",
    "    'lr': 3e-3,\n",
    "    'momentum': 0.99,\n",
    "    'l1': 1e-3,\n",
    "    'l2': 1e-3,\n",
    "    'patience': 30,\n",
    "    'device': set_device(),\n",
    "}\n",
    "print('Current device:', args['device'])\n",
    "\n",
    "# Set random seed for reproducibility\n",
    "SEED = 2021\n",
    "set_seed(seed = SEED)\n",
    "g_seed = torch.Generator()\n",
    "g_seed.manual_seed(SEED)\n",
    "\n",
    "# Torch-based data transformation\n",
    "data_transform = None\n"
   ]
  },
  {
   "cell_type": "markdown",
   "metadata": {},
   "source": [
    "## MAIN CODE"
   ]
  },
  {
   "cell_type": "code",
   "execution_count": 7,
   "metadata": {},
   "outputs": [
    {
     "name": "stdout",
     "output_type": "stream",
     "text": [
      "Dataset length: {'train': 70, 'val': 17, 'test': 21}\n",
      "Input shape: [channel, frequency, time]\n",
      "Single input data size: (12, 14, 129, 50)\n",
      "Single output data size: (4,)\n"
     ]
    }
   ],
   "source": [
    "# Implement Dataloader\n",
    "FullDataset, DataSize, ExpIndex = CerealTimeKillersDataLoader(dir_base = workspace_dir,\n",
    "                                                              label_class = CerealTimeKillersLabels,\n",
    "                                                              label_range = LabelRange,\n",
    "                                                              dataset_mix = Is_between_subject,\n",
    "                                                              winlen = N_inputtime,\n",
    "                                                              stride = N_stridetime,\n",
    "                                                              nperseg = N_perseg,\n",
    "                                                              fs = N_framerate,\n",
    "                                                              transform = data_transform)\n",
    "\n",
    "# Implement DataSplitter\n",
    "SplittedDataset, SplittedDataLength = CerealTimeKillersDataSplitter(FullDataset, \n",
    "                                                                    exp_index = ExpIndex, \n",
    "                                                                    allocation_test = Allocation_test,\n",
    "                                                                    test_ratio = test_ratio,\n",
    "                                                                    target_test = Target_test,\n",
    "                                                                    k_folds = k_folds,\n",
    "                                                                    batch_size_train = batch_size_train,\n",
    "                                                                    batch_size_test = batch_size_test,\n",
    "                                                                    seed = SEED,\n",
    "                                                                    generator = g_seed)\n",
    "\n",
    "# Load Splited data\n",
    "(TrainDataLoader, ValDataLoader, TestDataLoader) = (SplittedDataset['train'],\n",
    "                                                    SplittedDataset['val'],\n",
    "                                                    SplittedDataset['test'])\n",
    "\n",
    "# Show data size\n",
    "print('Dataset length:', SplittedDataLength)\n",
    "print('Input shape: [channel, frequency, time]')\n",
    "print('Single input data size:', DataSize[0])\n",
    "print('Single output data size:', DataSize[1])\n"
   ]
  },
  {
   "cell_type": "code",
   "execution_count": 8,
   "metadata": {
    "scrolled": true
   },
   "outputs": [
    {
     "name": "stdout",
     "output_type": "stream",
     "text": [
      "CTKNet_CRNN(\n",
      "  (conv1): Conv2d(14, 20, kernel_size=(3, 3), stride=(1, 1))\n",
      "  (pool1): MaxPool2d(kernel_size=1, stride=1, padding=0, dilation=1, ceil_mode=False)\n",
      "  (conv2): Conv2d(20, 10, kernel_size=(5, 5), stride=(1, 1))\n",
      "  (pool2): MaxPool2d(kernel_size=2, stride=2, padding=0, dilation=1, ceil_mode=False)\n",
      "  (conv3): Conv2d(10, 5, kernel_size=(10, 10), stride=(1, 1))\n",
      "  (pool3): MaxPool2d(kernel_size=2, stride=2, padding=0, dilation=1, ceil_mode=False)\n",
      "  (rnn1): LSTM(780, 128, batch_first=True)\n",
      "  (fc1): Linear(in_features=128, out_features=64, bias=True)\n",
      "  (drop1): Dropout(p=0.5, inplace=False)\n",
      "  (fc2): Linear(in_features=64, out_features=4, bias=True)\n",
      ")\n"
     ]
    }
   ],
   "source": [
    "# Model selection\n",
    "model, optimizer, criterion = CerealTimeKillersModelGenerator(args, size = DataSize)\n",
    "print(model)\n",
    "# summary(model, DataSize[0])\n"
   ]
  },
  {
   "cell_type": "code",
   "execution_count": null,
   "metadata": {
    "scrolled": true
   },
   "outputs": [
    {
     "name": "stdout",
     "output_type": "stream",
     "text": [
      "\n",
      "1/5 Fold\n",
      "----------------------------\n"
     ]
    },
    {
     "data": {
      "application/vnd.jupyter.widget-view+json": {
       "model_id": "6e8c38f6c3b94c1ea676a5a1da972b98",
       "version_major": 2,
       "version_minor": 0
      },
      "text/plain": [
       "HBox(children=(HTML(value=''), FloatProgress(value=0.0, max=300.0), HTML(value='')))"
      ]
     },
     "metadata": {},
     "output_type": "display_data"
    },
    {
     "name": "stderr",
     "output_type": "stream",
     "text": [
      "/Users/chronowanderer/.local/lib/python3.7/site-packages/torch/nn/functional.py:718: UserWarning: Named tensors and all their associated APIs are an experimental feature and subject to change. Please do not use them for anything important until they are released as stable. (Triggered internally at  ../c10/core/TensorImpl.h:1156.)\n",
      "  return torch.max_pool2d(input, kernel_size, stride, padding, dilation, ceil_mode)\n",
      "/Users/chronowanderer/.local/lib/python3.7/site-packages/torch/nn/functional.py:1805: UserWarning: nn.functional.sigmoid is deprecated. Use torch.sigmoid instead.\n",
      "  warnings.warn(\"nn.functional.sigmoid is deprecated. Use torch.sigmoid instead.\")\n"
     ]
    },
    {
     "name": "stdout",
     "output_type": "stream",
     "text": [
      "-----Epoch  10 / 300\n",
      "Train/Val/TEST MSE: 0.12928892225027083 0.12326798525949319 0.12616228312253952\n",
      "Train/Val/TEST Accuracy: 37.68115942028985 55.55555555555556 9.523809523809524\n",
      "-----Epoch  20 / 300\n",
      "Train/Val/TEST MSE: 0.10786130875349045 0.09236604285736878 0.11141229837778069\n",
      "Train/Val/TEST Accuracy: 39.130434782608695 33.333333333333336 23.80952380952381\n",
      "-----Epoch  30 / 300\n",
      "Train/Val/TEST MSE: 0.10128305852413177 0.08416977214316528 0.1144909860921048\n",
      "Train/Val/TEST Accuracy: 37.68115942028985 33.333333333333336 28.571428571428573\n",
      "-----Epoch  40 / 300\n",
      "Train/Val/TEST MSE: 0.1050492361187935 0.0871519207333525 0.11432260496630556\n",
      "Train/Val/TEST Accuracy: 37.68115942028985 33.333333333333336 28.571428571428573\n",
      "-----Epoch  50 / 300\n",
      "Train/Val/TEST MSE: 0.10968175083398819 0.08921567909419537 0.113019981022392\n",
      "Train/Val/TEST Accuracy: 37.68115942028985 33.333333333333336 28.571428571428573\n",
      "-----Epoch  60 / 300\n",
      "Train/Val/TEST MSE: 0.10236239433288574 0.08982838359143999 0.11259171224775769\n",
      "Train/Val/TEST Accuracy: 37.68115942028985 33.333333333333336 28.571428571428573\n",
      "Early stopped on epoch 32\n",
      "\n"
     ]
    },
    {
     "data": {
      "image/png": "[encoded data removed]",
      "text/plain": [
       "<Figure size 1116x396 with 2 Axes>"
      ]
     },
     "metadata": {
      "needs_background": "light"
     },
     "output_type": "display_data"
    },
    {
     "name": "stdout",
     "output_type": "stream",
     "text": [
      "Train/Val/Test Final MSE: [0.09774582237005233, 0.08401339356270102, 0.11483157692211014]\n",
      "Train/Val/Test Maximum Accuracy: [37.68115942028985, 33.333333333333336, 28.571428571428573]\n",
      "\n",
      "2/5 Fold\n",
      "----------------------------\n"
     ]
    },
    {
     "data": {
      "application/vnd.jupyter.widget-view+json": {
       "model_id": "12f8c193c8414cb6abf8e535bdcff15f",
       "version_major": 2,
       "version_minor": 0
      },
      "text/plain": [
       "HBox(children=(HTML(value=''), FloatProgress(value=0.0, max=300.0), HTML(value='')))"
      ]
     },
     "metadata": {},
     "output_type": "display_data"
    },
    {
     "name": "stdout",
     "output_type": "stream",
     "text": [
      "-----Epoch  10 / 300\n",
      "Train/Val/TEST MSE: 0.12614319622516632 0.11005462167991532 0.12462338920505274\n",
      "Train/Val/TEST Accuracy: 42.028985507246375 27.77777777777778 14.285714285714286\n",
      "-----Epoch  20 / 300\n",
      "Train/Val/TEST MSE: 0.10357238054275512 0.08876013631621997 0.11257282289720717\n",
      "Train/Val/TEST Accuracy: 42.028985507246375 27.77777777777778 14.285714285714286\n",
      "-----Epoch  30 / 300\n",
      "Train/Val/TEST MSE: 0.10057150572538376 0.08933109603822231 0.11478557459832657\n",
      "Train/Val/TEST Accuracy: 53.6231884057971 33.333333333333336 19.047619047619047\n",
      "-----Epoch  40 / 300\n",
      "Train/Val/TEST MSE: 0.10284628719091415 0.08964678024252255 0.11402392768788905\n",
      "Train/Val/TEST Accuracy: 42.028985507246375 27.77777777777778 14.285714285714286\n",
      "-----Epoch  50 / 300\n",
      "Train/Val/TEST MSE: 0.09685206264257432 0.08842977922823694 0.11328825447708368\n",
      "Train/Val/TEST Accuracy: 42.028985507246375 27.77777777777778 14.285714285714286\n",
      "-----Epoch  60 / 300\n",
      "Train/Val/TEST MSE: 0.10062282234430313 0.0887411209858126 0.11357887860919748\n",
      "Train/Val/TEST Accuracy: 42.028985507246375 27.77777777777778 14.285714285714286\n",
      "-----Epoch  70 / 300\n",
      "Train/Val/TEST MSE: 0.09804796874523163 0.08887490009268124 0.1135619967466309\n",
      "Train/Val/TEST Accuracy: 42.028985507246375 27.77777777777778 14.285714285714286\n"
     ]
    }
   ],
   "source": [
    "# Model simulation\n",
    "loss_K, acc_K, param_K, models_K = CerealTimeKillersModelSimulator(args, CerealTimeKillersLabels, \n",
    "                                                                   TrainDataLoader,\n",
    "                                                                   ValDataLoader,\n",
    "                                                                   TestDataLoader,\n",
    "                                                                   DataSize,\n",
    "                                                                   is_2D = Is_2D_to_quardrant_emotion,\n",
    "                                                                   K_fold_train = K_fold_train,\n",
    "                                                                   k_folds = k_folds)\n",
    "\n"
   ]
  },
  {
   "cell_type": "code",
   "execution_count": null,
   "metadata": {},
   "outputs": [],
   "source": [
    "# Average results from K-folds\n",
    "print('Train/Val/Test Average MSE:', list(np.mean(np.array(loss_K), axis = 0)))\n",
    "print('Train/Val/Test Average Accuracy:', list(np.mean(np.array(acc_K), axis = 0)))\n"
   ]
  },
  {
   "cell_type": "markdown",
   "metadata": {},
   "source": [
    "## Single prediction results"
   ]
  },
  {
   "cell_type": "code",
   "execution_count": null,
   "metadata": {
    "scrolled": false
   },
   "outputs": [],
   "source": [
    "# Print single prediction results from data loader\n",
    "fold = 0\n",
    "ShowDataset = TestDataLoader\n",
    "ShowModel = models_K[fold]\n",
    "BATCH_SHOW = 20\n",
    "\n",
    "ShowModel.eval()\n",
    "\n",
    "with torch.no_grad():\n",
    "    for idx, (data, target, quadrant) in enumerate(ShowDataset):\n",
    "        data = data.type(torch.float).to(args['device'])\n",
    "        target = target.type(torch.float).to(args['device'])\n",
    "        quadrant = quadrant.type(torch.float).to(args['device'])\n",
    "        output = ShowModel(data)\n",
    "            \n",
    "        eval_loss = criterion(output, target).item()\n",
    "        \n",
    "        if not Is_2D_to_quardrant_emotion:\n",
    "            predicted = maximum_extraction(output)\n",
    "            labels = maximum_extraction(target)\n",
    "        else:\n",
    "            predicted = emotion_transformation(output)\n",
    "            flabels = maximum_extraction(quadrant)\n",
    "            labels = emotion_transformation(target)\n",
    "        \n",
    "        eval_acc = maximum_comparison(predicted, labels) * 100.0 / target.size(0)\n",
    "        \n",
    "        if idx < BATCH_SHOW:\n",
    "            print('Batch', idx + 1, ' ( Size', target.size(0), '):')\n",
    "            print('Output Example:', output[0].detach().numpy(), 'with label ', predicted[0])\n",
    "            if not Is_2D_to_quardrant_emotion:\n",
    "                print('Target Example:', target[0].detach().numpy(), 'with label ', labels[0])\n",
    "            else:\n",
    "                print('Target Example:', target[0].detach().numpy(), 'with label ', flabels[0])\n",
    "                print('Real Label Example:', quadrant[0].detach().numpy(), 'with label ', labels[0])\n",
    "            print('------- MSE:', eval_loss, ' Accuracy:', eval_acc, '%-------\\n')\n",
    "        else:\n",
    "            print('Etc. for totally ', len(ShowDataset), 'batches.')\n",
    "            break\n",
    " "
   ]
  },
  {
   "cell_type": "markdown",
   "metadata": {},
   "source": [
    "## 2D emotion plot"
   ]
  },
  {
   "cell_type": "code",
   "execution_count": null,
   "metadata": {},
   "outputs": [],
   "source": [
    "# Plot 2D emotions in a plane for all dataset\n",
    "if Is_2D_to_quardrant_emotion:\n",
    "    fold = 0 # select the model trained in the corresponding fold\n",
    "    TwoD_emotion_plotting(args, models_K[fold], FullDataset, LabelRange, subject = 27, game = 4, plot_disk = True)\n"
   ]
  }
 ],
 "metadata": {
  "kernelspec": {
   "display_name": "Python [conda env:pytorch]",
   "language": "python",
   "name": "conda-env-pytorch-py"
  },
  "language_info": {
   "codemirror_mode": {
    "name": "ipython",
    "version": 3
   },
   "file_extension": ".py",
   "mimetype": "text/x-python",
   "name": "python",
   "nbconvert_exporter": "python",
   "pygments_lexer": "ipython3",
   "version": "3.7.9"
  }
 },
 "nbformat": 4,
 "nbformat_minor": 5
}
