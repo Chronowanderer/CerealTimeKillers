{
 "cells": [
  {
   "cell_type": "code",
   "execution_count": 97,
   "id": "electronic-delta",
   "metadata": {},
   "outputs": [],
   "source": [
    "import numpy as np\n",
    "import pandas as pd\n",
    "import torch\n",
    "import matplotlib.pyplot as plt\n",
    "from scipy.signal import spectrogram\n",
    "from torch.utils.data import Dataset, DataLoader"
   ]
  },
  {
   "cell_type": "code",
   "execution_count": null,
   "id": "expected-pharmaceutical",
   "metadata": {},
   "outputs": [],
   "source": [
    "def get_specgram(dir_to_GAMEEMO, patient, game,winlen=None,stride=1):\n",
    "    # Reading from the csv data set (can do matlab as well) using pandas. \n",
    "\n",
    "    #Patient = 'S01' #The Patient\n",
    "    #Game = 'G1' #The game\n",
    "\n",
    "    #You can also just paste in the Directory of the csv file - on windows you may have to change the slash direction\n",
    "    DirComb = f'{dir_to_GAMEEMO}/({patient})/Preprocessed EEG Data/.csv format/{patient}{game}AllChannels.csv'\n",
    "\n",
    "    df=pd.read_csv(DirComb, sep=',',header=None)\n",
    "    d = np.array(df) #Switching from pandas to numpy array as this might be more comfortable for people\n",
    "    d = np.delete(d,0,0) # Deleting header\n",
    "    d = np.delete(d,-1,1).astype(float) #and erroneous last column\n",
    "    \n",
    "    full_spec = []\n",
    "    for idx, d2 in enumerate(d.T):\n",
    "        _, _, Sxx = spectrogram(d2,fs=120)\n",
    "        full_spec.append(Sxx)\n",
    "        \n",
    "    #DIMENSIONS OF FULL_SPEC WITHOUT WINDOWING\n",
    "    #DIMENSION 1: CHANNELS  (DEFAULT=14) - MIGHT CHANGE (SO NOT REALLY DEFAULT BUT OK)\n",
    "    #DIMENSION 2: FREQUENCY (DEFAULT=129)\n",
    "    #DIMENSION 3: TIME      (DEFAULT=170) - MIGHT CHANGE AS WELL OK - WE ARE WORKING ON IT\n",
    "    \n",
    "    full_spec = np.vstack([full_spec])\n",
    "\n",
    "    if(winlen==None):\n",
    "        return full_spec\n",
    "    \n",
    "    i = 0\n",
    "    \n",
    "    \n",
    "    full_spec_wind = []\n",
    "    while i*stride+winlen<full_spec.shape[-1]:\n",
    "        full_spec_wind.append(full_spec[:,:,stride*i:i*stride+winlen])\n",
    "        i+=1    \n",
    "    \n",
    "    #DIMENSIONS OF FULL_SPEC WITH WINDOWING    (FULL_SPEC_WIND) \n",
    "    #DIMENSION 1: CHANNELS  (DEFAULT=14) - MIGHT CHANGE (SO NOT REALLY DEFAULT BUT OK)\n",
    "    #DIMENSION 2: FREQUENCY (DEFAULT=129)\n",
    "    #DIMENSION 3: TIME      (NO DEFAULT - SORRY)\n",
    "    #DIMENSION 4: WINDOWS   (NO DEFAULT - SORRY)\n",
    "    \n",
    "    full_spec_wind = np.array(full_spec_wind)\n",
    "    full_spec_wind = np.moveaxis(full_spec_wind,0,-1)\n",
    "    return full_spec_wind"
   ]
  },
  {
   "cell_type": "code",
   "execution_count": null,
   "id": "headed-embassy",
   "metadata": {
    "scrolled": true
   },
   "outputs": [],
   "source": [
    "basedir = '/Users/maximilianeggl/Dropbox/PostDoc/NeuroMatch/'\n",
    "labeldir = f'{basedir}GameLabels.csv' #Path to GAMEEMO\n",
    "gamedir = f'{basedir}GAMEEMO/'\n",
    "\n",
    "full_spec = get_specgram(gamedir, 'S01', 'G1',25,)"
   ]
  },
  {
   "cell_type": "code",
   "execution_count": null,
   "id": "separate-migration",
   "metadata": {
    "scrolled": false
   },
   "outputs": [],
   "source": [
    "labels_df = pd.read_csv(labeldir)\n",
    "\n",
    "labels_df['full_specgram_1'] = [[]] * len(labels_df)\n",
    "for idx in range(len(labels_df)):\n",
    "    game = f'G{int(idx % 4)+1}'\n",
    "    subject = f'S{int(idx/4)+1:02d}'\n",
    "    labels_df['full_specgram_1'][idx] = get_specgram(gamedir, subject, game,25,)\n",
    "    breakpoint()"
   ]
  },
  {
   "cell_type": "code",
   "execution_count": 120,
   "id": "catholic-jamaica",
   "metadata": {},
   "outputs": [],
   "source": [
    "class CerealTimeKillersDataset(Dataset):\n",
    "    \"\"\"Spectrogram dataset.\"\"\"\n",
    "\n",
    "    def __init__(self, df):\n",
    "        \"\"\"\n",
    "        Args:\n",
    "            csv_file (string): Path to the csv file with annotations.\n",
    "            root_dir (string): Directory with all the images.\n",
    "            transform (callable, optional): Optional transform to be applied\n",
    "                on a sample.\n",
    "        \"\"\"\n",
    "        self.ori_dataframe = df\n",
    "\n",
    "    def __len__(self):\n",
    "        return len(self.ori_dataframe)\n",
    "\n",
    "    def __getitem__(self, idx):\n",
    "        if torch.is_tensor(idx):\n",
    "            idx = idx.tolist()\n",
    "\n",
    "        spectrogram = self.ori_dataframe.iloc[idx, 14]\n",
    "        labels = self.ori_dataframe.iloc[idx, :14]\n",
    "        labels = np.array([labels])\n",
    "        sample = {'spectrogram': spectrogram, 'labels': labels}\n",
    "\n",
    "        return sample"
   ]
  },
  {
   "cell_type": "code",
   "execution_count": 121,
   "id": "experienced-april",
   "metadata": {},
   "outputs": [],
   "source": [
    "final_dataset = CerealTimeKillersDataset(labels_df)\n",
    "dataloader = DataLoader(final_dataset, batch_size=4, shuffle=True,\n",
    "                        num_workers=0)"
   ]
  },
  {
   "cell_type": "code",
   "execution_count": 122,
   "id": "0b5ad5bc",
   "metadata": {},
   "outputs": [
    {
     "data": {
      "text/plain": [
       "(129, 170, 14)"
      ]
     },
     "execution_count": 122,
     "metadata": {},
     "output_type": "execute_result"
    }
   ],
   "source": [
    "dataloader.dataset[0]['spectrogram'].shape"
   ]
  },
  {
   "cell_type": "code",
   "execution_count": 125,
   "id": "a4f1edef",
   "metadata": {},
   "outputs": [
    {
     "data": {
      "text/plain": [
       "(129, 170, 14)"
      ]
     },
     "execution_count": 125,
     "metadata": {},
     "output_type": "execute_result"
    }
   ],
   "source": [
    "final_dataset[0]['spectrogram'].shape"
   ]
  },
  {
   "cell_type": "code",
   "execution_count": null,
   "id": "432024b1",
   "metadata": {},
   "outputs": [],
   "source": []
  }
 ],
 "metadata": {
  "kernelspec": {
   "display_name": "Python 3",
   "language": "python",
   "name": "python3"
  },
  "language_info": {
   "codemirror_mode": {
    "name": "ipython",
    "version": 3
   },
   "file_extension": ".py",
   "mimetype": "text/x-python",
   "name": "python",
   "nbconvert_exporter": "python",
   "pygments_lexer": "ipython3",
   "version": "3.8.5"
  }
 },
 "nbformat": 4,
 "nbformat_minor": 5
}
