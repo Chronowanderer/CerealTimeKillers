{
 "cells": [
  {
   "cell_type": "code",
   "execution_count": 51,
   "id": "electronic-delta",
   "metadata": {},
   "outputs": [
    {
     "ename": "ModuleNotFoundError",
     "evalue": "No module named 'torch'",
     "output_type": "error",
     "traceback": [
      "\u001b[1;31m---------------------------------------------------------------------------\u001b[0m",
      "\u001b[1;31mModuleNotFoundError\u001b[0m                       Traceback (most recent call last)",
      "\u001b[1;32m<ipython-input-51-5913cab6ec85>\u001b[0m in \u001b[0;36m<module>\u001b[1;34m\u001b[0m\n\u001b[0;32m      4\u001b[0m \u001b[1;32mimport\u001b[0m \u001b[0mmatplotlib\u001b[0m\u001b[1;33m.\u001b[0m\u001b[0mpyplot\u001b[0m \u001b[1;32mas\u001b[0m \u001b[0mplt\u001b[0m\u001b[1;33m\u001b[0m\u001b[1;33m\u001b[0m\u001b[0m\n\u001b[0;32m      5\u001b[0m \u001b[1;32mfrom\u001b[0m \u001b[0mscipy\u001b[0m\u001b[1;33m.\u001b[0m\u001b[0msignal\u001b[0m \u001b[1;32mimport\u001b[0m \u001b[0mspectrogram\u001b[0m\u001b[1;33m\u001b[0m\u001b[1;33m\u001b[0m\u001b[0m\n\u001b[1;32m----> 6\u001b[1;33m \u001b[1;32mfrom\u001b[0m \u001b[0mtorch\u001b[0m\u001b[1;33m.\u001b[0m\u001b[0mutils\u001b[0m\u001b[1;33m.\u001b[0m\u001b[0mdata\u001b[0m \u001b[1;32mimport\u001b[0m \u001b[0mDataset\u001b[0m\u001b[1;33m,\u001b[0m \u001b[0mDataLoader\u001b[0m\u001b[1;33m\u001b[0m\u001b[1;33m\u001b[0m\u001b[0m\n\u001b[0m",
      "\u001b[1;31mModuleNotFoundError\u001b[0m: No module named 'torch'"
     ]
    }
   ],
   "source": [
    "import numpy as np\n",
    "import pandas as pd\n",
    "#import torch\n",
    "import matplotlib.pyplot as plt\n",
    "from scipy.signal import spectrogram\n",
    "from torch.utils.data import Dataset, DataLoader"
   ]
  },
  {
   "cell_type": "code",
   "execution_count": 44,
   "id": "expected-pharmaceutical",
   "metadata": {},
   "outputs": [],
   "source": [
    "def get_specgram(dir_to_GAMEEMO, patient, game):\n",
    "    # Reading from the csv data set (can do matlab as well) using pandas. \n",
    "\n",
    "    #Patient = 'S01' #The Patient\n",
    "    #Game = 'G1' #The game\n",
    "\n",
    "    #You can also just paste in the Directory of the csv file - on windows you may have to change the slash direction\n",
    "    DirComb = f'{dir_to_GAMEEMO}/({patient})/Preprocessed EEG Data/.csv format/{patient}{game}AllChannels.csv'\n",
    "\n",
    "    df=pd.read_csv(DirComb, sep=',',header=None)\n",
    "    d = np.array(df) #Switching from pandas to numpy array as this might be more comfortable for people\n",
    "    d = np.delete(d,0,0) # Deleting header\n",
    "    d = np.delete(d,-1,1).astype(float) #and erroneous last column\n",
    "    \n",
    "    for idx, d2 in enumerate(d.T):\n",
    "        _, _, Sxx = spectrogram(d2,fs=120)\n",
    "        if idx == 0:\n",
    "            full_spec = Sxx\n",
    "        else:\n",
    "            full_spec = np.append(full_spec, Sxx, axis=1)\n",
    "    return full_spec"
   ]
  },
  {
   "cell_type": "code",
   "execution_count": 45,
   "id": "headed-embassy",
   "metadata": {
    "scrolled": true
   },
   "outputs": [
    {
     "data": {
      "text/plain": [
       "array([[2.82326543e+00, 3.65090824e-03, 4.92888047e-01, ...,\n",
       "        6.89887282e-01, 5.05342218e-01, 1.72666483e-01],\n",
       "       [9.07557623e+00, 2.13118976e+00, 1.27050027e+01, ...,\n",
       "        2.54881363e+00, 7.12427803e-01, 4.28823487e+00],\n",
       "       [1.52908893e+01, 7.47031177e-01, 3.39653787e+00, ...,\n",
       "        1.26804526e+00, 6.55939408e-01, 1.85234790e+00],\n",
       "       ...,\n",
       "       [1.60615583e-01, 1.59936037e-03, 7.95917541e-03, ...,\n",
       "        2.19242904e-03, 4.84510706e-02, 1.22700911e-02],\n",
       "       [1.23125458e-01, 1.27450902e-02, 2.81848747e-02, ...,\n",
       "        1.43611098e-01, 8.30239996e-02, 5.38889235e-02],\n",
       "       [3.26482462e-02, 4.49888105e-02, 9.20906132e-03, ...,\n",
       "        1.38731491e-02, 1.61095319e-03, 5.20108067e-04]])"
      ]
     },
     "execution_count": 45,
     "metadata": {},
     "output_type": "execute_result"
    }
   ],
   "source": [
    "basedir = 'C:/Users/katja/OneDrive/Dokumente/PhD/Courses/Neuromatch/'\n",
    "labeldir = f'{basedir}GameLabels.csv' #Path to GAMEEMO\n",
    "gamedir = f'{basedir}archive/GAMEEMO/'\n",
    "\n",
    "get_specgram(gamedir, 'S01', 'G1')"
   ]
  },
  {
   "cell_type": "code",
   "execution_count": 52,
   "id": "separate-migration",
   "metadata": {},
   "outputs": [
    {
     "name": "stderr",
     "output_type": "stream",
     "text": [
      "C:\\Users\\katja\\anaconda3\\envs\\suite2p\\lib\\site-packages\\ipykernel_launcher.py:9: SettingWithCopyWarning: \n",
      "A value is trying to be set on a copy of a slice from a DataFrame\n",
      "\n",
      "See the caveats in the documentation: https://pandas.pydata.org/pandas-docs/stable/user_guide/indexing.html#returning-a-view-versus-a-copy\n",
      "  if __name__ == '__main__':\n"
     ]
    },
    {
     "name": "stdout",
     "output_type": "stream",
     "text": [
      "subject                                                            1\n",
      "game                                                               1\n",
      "gender                                                             F\n",
      "age                                                               24\n",
      "disturbance                                                        N\n",
      "experience                                                         N\n",
      "memory                                                             N\n",
      "satisfied                                                          2\n",
      "boring                                                             8\n",
      "horrible                                                           1\n",
      "calm                                                               3\n",
      "funny                                                              2\n",
      "valence                                                            2\n",
      "arousal                                                            3\n",
      "full_specgram_1    [[2.823265426765825, 0.0036509082386283658, 0....\n",
      "Name: 0, dtype: object\n"
     ]
    }
   ],
   "source": [
    "labels_df = pd.read_csv(labeldir)\n",
    "\n",
    "\n",
    "labels_df['full_specgram_1'] = [[]] * len(labels)\n",
    "for idx in range(len(labels)):\n",
    "    game = f'G{int(idx % 4)+1}'\n",
    "    subject = f'S{int(idx/4)+1:02d}'\n",
    "    \n",
    "    labels_df['full_specgram_1'][idx] = get_specgram(gamedir, subject, game)\n",
    "\n",
    "print(labels_df.iloc[0, :])"
   ]
  },
  {
   "cell_type": "code",
   "execution_count": 50,
   "id": "catholic-jamaica",
   "metadata": {},
   "outputs": [
    {
     "ename": "NameError",
     "evalue": "name 'Dataset' is not defined",
     "output_type": "error",
     "traceback": [
      "\u001b[1;31m---------------------------------------------------------------------------\u001b[0m",
      "\u001b[1;31mNameError\u001b[0m                                 Traceback (most recent call last)",
      "\u001b[1;32m<ipython-input-50-efec5dbffe61>\u001b[0m in \u001b[0;36m<module>\u001b[1;34m\u001b[0m\n\u001b[1;32m----> 1\u001b[1;33m \u001b[1;32mclass\u001b[0m \u001b[0mCerealTimeKillersDataset\u001b[0m\u001b[1;33m(\u001b[0m\u001b[0mDataset\u001b[0m\u001b[1;33m)\u001b[0m\u001b[1;33m:\u001b[0m\u001b[1;33m\u001b[0m\u001b[1;33m\u001b[0m\u001b[0m\n\u001b[0m\u001b[0;32m      2\u001b[0m     \u001b[1;34m\"\"\"Spectrogram dataset.\"\"\"\u001b[0m\u001b[1;33m\u001b[0m\u001b[1;33m\u001b[0m\u001b[0m\n\u001b[0;32m      3\u001b[0m \u001b[1;33m\u001b[0m\u001b[0m\n\u001b[0;32m      4\u001b[0m     \u001b[1;32mdef\u001b[0m \u001b[0m__init__\u001b[0m\u001b[1;33m(\u001b[0m\u001b[0mself\u001b[0m\u001b[1;33m,\u001b[0m \u001b[0mdf\u001b[0m\u001b[1;33m)\u001b[0m\u001b[1;33m:\u001b[0m\u001b[1;33m\u001b[0m\u001b[1;33m\u001b[0m\u001b[0m\n\u001b[0;32m      5\u001b[0m         \"\"\"\n",
      "\u001b[1;31mNameError\u001b[0m: name 'Dataset' is not defined"
     ]
    }
   ],
   "source": [
    "class CerealTimeKillersDataset(Dataset):\n",
    "    \"\"\"Spectrogram dataset.\"\"\"\n",
    "\n",
    "    def __init__(self, df):\n",
    "        \"\"\"\n",
    "        Args:\n",
    "            csv_file (string): Path to the csv file with annotations.\n",
    "            root_dir (string): Directory with all the images.\n",
    "            transform (callable, optional): Optional transform to be applied\n",
    "                on a sample.\n",
    "        \"\"\"\n",
    "        self.ori_dataframe = df\n",
    "\n",
    "    def __len__(self):\n",
    "        return len(self.df)\n",
    "\n",
    "    def __getitem__(self, idx):\n",
    "        if torch.is_tensor(idx):\n",
    "            idx = idx.tolist()\n",
    "\n",
    "        spectrogram = self.ori_dataframe.iloc[idx, 14]\n",
    "        labels = self.landmarks_frame.iloc[idx, :14]\n",
    "        labels = np.array([labels])\n",
    "        sample = {'spectrogram': spectrogram, 'labels': labels}\n",
    "\n",
    "        return sample"
   ]
  },
  {
   "cell_type": "code",
   "execution_count": null,
   "id": "experienced-april",
   "metadata": {},
   "outputs": [],
   "source": [
    "final_dataset = CerealTimeKillersDataset(labels_df)\n",
    "dataloader = DataLoader(final_dataset, batch_size=4, shuffle=True,\n",
    "                        num_workers=0)"
   ]
  }
 ],
 "metadata": {
  "kernelspec": {
   "display_name": "Python 3",
   "language": "python",
   "name": "python3"
  },
  "language_info": {
   "codemirror_mode": {
    "name": "ipython",
    "version": 3
   },
   "file_extension": ".py",
   "mimetype": "text/x-python",
   "name": "python",
   "nbconvert_exporter": "python",
   "pygments_lexer": "ipython3",
   "version": "3.7.9"
  }
 },
 "nbformat": 4,
 "nbformat_minor": 5
}
